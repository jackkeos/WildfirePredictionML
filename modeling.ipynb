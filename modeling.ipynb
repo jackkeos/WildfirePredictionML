{
 "cells": [
  {
   "cell_type": "markdown",
   "id": "2907c3ad",
   "metadata": {},
   "source": [
    "# MODELING\n",
    "In this notebook, I will be implementing machine learning models using Sci-kit Learn in order to try to predict our target variable of classifying a fire as small (<1 acre) or large (>=1 acre). We will import the clean data from a saved csv and run the models on it. The primary goal in this is to optimize and select a model which yields the highest accuracy score on the test set. The reason we are using accuracy as our evaluation metric is because we want to know how well our model can classify a fire as large or small. Things like recall and precision might be useful but are not our primary interest - the concern is not to minimize false positives or false negatives, the goal is to accurately predict when a fire is large or small. "
   ]
  },
  {
   "cell_type": "code",
   "execution_count": 10,
   "id": "9ee13d8a",
   "metadata": {},
   "outputs": [],
   "source": [
    "#import necessary libraries\n",
    "#basic libraries\n",
    "import numpy as np\n",
    "import pandas as pd\n",
    "import matplotlib.pyplot as plt\n",
    "import seaborn as sns\n",
    "import warnings\n",
    "warnings.filterwarnings('ignore')\n",
    "\n",
    "#sklearn and xgboost libraries\n",
    "from sklearn.pipeline import Pipeline\n",
    "from sklearn.linear_model import LogisticRegression\n",
    "from sklearn.preprocessing import StandardScaler\n",
    "from sklearn.model_selection import train_test_split\n",
    "from sklearn.model_selection import cross_val_score\n",
    "from sklearn.decomposition import PCA\n",
    "from sklearn.model_selection import GridSearchCV\n",
    "from sklearn.tree import DecisionTreeClassifier\n",
    "from sklearn.neighbors import KNeighborsClassifier\n",
    "from sklearn.svm import LinearSVC\n",
    "from sklearn.svm import SVC\n",
    "from sklearn.ensemble import RandomForestClassifier\n",
    "from sklearn.metrics import accuracy_score\n",
    "from xgboost import XGBClassifier\n",
    "from sklearn.preprocessing import LabelEncoder\n",
    "from sklearn.model_selection import ParameterGrid"
   ]
  },
  {
   "cell_type": "code",
   "execution_count": 11,
   "id": "ae976c51",
   "metadata": {
    "scrolled": true
   },
   "outputs": [
    {
     "data": {
      "text/html": [
       "<div>\n",
       "<style scoped>\n",
       "    .dataframe tbody tr th:only-of-type {\n",
       "        vertical-align: middle;\n",
       "    }\n",
       "\n",
       "    .dataframe tbody tr th {\n",
       "        vertical-align: top;\n",
       "    }\n",
       "\n",
       "    .dataframe thead th {\n",
       "        text-align: right;\n",
       "    }\n",
       "</style>\n",
       "<table border=\"1\" class=\"dataframe\">\n",
       "  <thead>\n",
       "    <tr style=\"text-align: right;\">\n",
       "      <th></th>\n",
       "      <th>SIZE_BINARY_CLASS</th>\n",
       "      <th>FIRE_SIZE_CLASS</th>\n",
       "      <th>FIRE_SIZE</th>\n",
       "      <th>FIRE_YEAR</th>\n",
       "      <th>DISCOVERY_DOY</th>\n",
       "      <th>LATITUDE</th>\n",
       "      <th>LONGITUDE</th>\n",
       "      <th>DISCOVERY_TIME_Evening</th>\n",
       "      <th>DISCOVERY_TIME_Midday</th>\n",
       "      <th>DISCOVERY_TIME_Night or Morning</th>\n",
       "      <th>NWCG_CAUSE_CLASSIFICATION_Human</th>\n",
       "      <th>NWCG_CAUSE_CLASSIFICATION_Natural</th>\n",
       "      <th>OWNER_DESCR_Government</th>\n",
       "      <th>OWNER_DESCR_Private</th>\n",
       "      <th>REGION_East</th>\n",
       "      <th>REGION_Midwest</th>\n",
       "      <th>REGION_West</th>\n",
       "    </tr>\n",
       "  </thead>\n",
       "  <tbody>\n",
       "    <tr>\n",
       "      <th>0</th>\n",
       "      <td>Small</td>\n",
       "      <td>A</td>\n",
       "      <td>0.10</td>\n",
       "      <td>2005</td>\n",
       "      <td>33</td>\n",
       "      <td>40.036944</td>\n",
       "      <td>-121.005833</td>\n",
       "      <td>0</td>\n",
       "      <td>1</td>\n",
       "      <td>0</td>\n",
       "      <td>1</td>\n",
       "      <td>0</td>\n",
       "      <td>1</td>\n",
       "      <td>0</td>\n",
       "      <td>0</td>\n",
       "      <td>0</td>\n",
       "      <td>1</td>\n",
       "    </tr>\n",
       "    <tr>\n",
       "      <th>1</th>\n",
       "      <td>Small</td>\n",
       "      <td>A</td>\n",
       "      <td>0.25</td>\n",
       "      <td>2004</td>\n",
       "      <td>133</td>\n",
       "      <td>38.933056</td>\n",
       "      <td>-120.404444</td>\n",
       "      <td>0</td>\n",
       "      <td>0</td>\n",
       "      <td>1</td>\n",
       "      <td>0</td>\n",
       "      <td>1</td>\n",
       "      <td>1</td>\n",
       "      <td>0</td>\n",
       "      <td>0</td>\n",
       "      <td>0</td>\n",
       "      <td>1</td>\n",
       "    </tr>\n",
       "    <tr>\n",
       "      <th>2</th>\n",
       "      <td>Small</td>\n",
       "      <td>A</td>\n",
       "      <td>0.10</td>\n",
       "      <td>2004</td>\n",
       "      <td>152</td>\n",
       "      <td>38.984167</td>\n",
       "      <td>-120.735556</td>\n",
       "      <td>1</td>\n",
       "      <td>0</td>\n",
       "      <td>0</td>\n",
       "      <td>1</td>\n",
       "      <td>0</td>\n",
       "      <td>0</td>\n",
       "      <td>0</td>\n",
       "      <td>0</td>\n",
       "      <td>0</td>\n",
       "      <td>1</td>\n",
       "    </tr>\n",
       "    <tr>\n",
       "      <th>3</th>\n",
       "      <td>Small</td>\n",
       "      <td>A</td>\n",
       "      <td>0.10</td>\n",
       "      <td>2004</td>\n",
       "      <td>180</td>\n",
       "      <td>38.559167</td>\n",
       "      <td>-119.913333</td>\n",
       "      <td>0</td>\n",
       "      <td>1</td>\n",
       "      <td>0</td>\n",
       "      <td>0</td>\n",
       "      <td>1</td>\n",
       "      <td>1</td>\n",
       "      <td>0</td>\n",
       "      <td>0</td>\n",
       "      <td>0</td>\n",
       "      <td>1</td>\n",
       "    </tr>\n",
       "    <tr>\n",
       "      <th>4</th>\n",
       "      <td>Small</td>\n",
       "      <td>A</td>\n",
       "      <td>0.10</td>\n",
       "      <td>2004</td>\n",
       "      <td>180</td>\n",
       "      <td>38.559167</td>\n",
       "      <td>-119.933056</td>\n",
       "      <td>0</td>\n",
       "      <td>1</td>\n",
       "      <td>0</td>\n",
       "      <td>0</td>\n",
       "      <td>1</td>\n",
       "      <td>1</td>\n",
       "      <td>0</td>\n",
       "      <td>0</td>\n",
       "      <td>0</td>\n",
       "      <td>1</td>\n",
       "    </tr>\n",
       "  </tbody>\n",
       "</table>\n",
       "</div>"
      ],
      "text/plain": [
       "  SIZE_BINARY_CLASS FIRE_SIZE_CLASS  FIRE_SIZE  FIRE_YEAR  DISCOVERY_DOY  \\\n",
       "0             Small               A       0.10       2005             33   \n",
       "1             Small               A       0.25       2004            133   \n",
       "2             Small               A       0.10       2004            152   \n",
       "3             Small               A       0.10       2004            180   \n",
       "4             Small               A       0.10       2004            180   \n",
       "\n",
       "    LATITUDE   LONGITUDE  DISCOVERY_TIME_Evening  DISCOVERY_TIME_Midday  \\\n",
       "0  40.036944 -121.005833                       0                      1   \n",
       "1  38.933056 -120.404444                       0                      0   \n",
       "2  38.984167 -120.735556                       1                      0   \n",
       "3  38.559167 -119.913333                       0                      1   \n",
       "4  38.559167 -119.933056                       0                      1   \n",
       "\n",
       "   DISCOVERY_TIME_Night or Morning  NWCG_CAUSE_CLASSIFICATION_Human  \\\n",
       "0                                0                                1   \n",
       "1                                1                                0   \n",
       "2                                0                                1   \n",
       "3                                0                                0   \n",
       "4                                0                                0   \n",
       "\n",
       "   NWCG_CAUSE_CLASSIFICATION_Natural  OWNER_DESCR_Government  \\\n",
       "0                                  0                       1   \n",
       "1                                  1                       1   \n",
       "2                                  0                       0   \n",
       "3                                  1                       1   \n",
       "4                                  1                       1   \n",
       "\n",
       "   OWNER_DESCR_Private  REGION_East  REGION_Midwest  REGION_West  \n",
       "0                    0            0               0            1  \n",
       "1                    0            0               0            1  \n",
       "2                    0            0               0            1  \n",
       "3                    0            0               0            1  \n",
       "4                    0            0               0            1  "
      ]
     },
     "execution_count": 11,
     "metadata": {},
     "output_type": "execute_result"
    }
   ],
   "source": [
    "#read clean data into Pandas DataFrame\n",
    "df = pd.read_csv('clean_data.csv')\n",
    "df.head()"
   ]
  },
  {
   "cell_type": "code",
   "execution_count": 12,
   "id": "b10172f3",
   "metadata": {},
   "outputs": [
    {
     "data": {
      "text/plain": [
       "(2299932, 17)"
      ]
     },
     "execution_count": 12,
     "metadata": {},
     "output_type": "execute_result"
    }
   ],
   "source": [
    "#check shape\n",
    "df.shape"
   ]
  },
  {
   "cell_type": "markdown",
   "id": "c7b97dae",
   "metadata": {},
   "source": [
    "#### Checking for multicollinearity\n",
    "Many models perform more poorly if there is multicollinearity among the features. Because of this, we are going to check for this in our data in order to improve model performance."
   ]
  },
  {
   "cell_type": "code",
   "execution_count": 13,
   "id": "836643cd",
   "metadata": {},
   "outputs": [
    {
     "data": {
      "text/plain": [
       "Index(['SIZE_BINARY_CLASS', 'FIRE_SIZE_CLASS', 'FIRE_SIZE', 'FIRE_YEAR',\n",
       "       'DISCOVERY_DOY', 'LATITUDE', 'LONGITUDE', 'DISCOVERY_TIME_Evening',\n",
       "       'DISCOVERY_TIME_Midday', 'DISCOVERY_TIME_Night or Morning',\n",
       "       'NWCG_CAUSE_CLASSIFICATION_Human', 'NWCG_CAUSE_CLASSIFICATION_Natural',\n",
       "       'OWNER_DESCR_Government', 'OWNER_DESCR_Private', 'REGION_East',\n",
       "       'REGION_Midwest', 'REGION_West'],\n",
       "      dtype='object')"
      ]
     },
     "execution_count": 13,
     "metadata": {},
     "output_type": "execute_result"
    }
   ],
   "source": [
    "#look at columns\n",
    "df.columns"
   ]
  },
  {
   "cell_type": "code",
   "execution_count": 14,
   "id": "2cddb586",
   "metadata": {},
   "outputs": [],
   "source": [
    "# Split df into features and target variable\n",
    "X = df[['FIRE_YEAR', 'DISCOVERY_DOY', 'LATITUDE', 'LONGITUDE', 'DISCOVERY_TIME_Evening', \\\n",
    "        'DISCOVERY_TIME_Midday', 'DISCOVERY_TIME_Night or Morning',\\\n",
    "        'NWCG_CAUSE_CLASSIFICATION_Human',\\\n",
    "        'NWCG_CAUSE_CLASSIFICATION_Natural', 'OWNER_DESCR_Government', 'OWNER_DESCR_Private',\\\n",
    "        'REGION_East', 'REGION_Midwest', 'REGION_West']]\n",
    "y = df['SIZE_BINARY_CLASS']"
   ]
  },
  {
   "cell_type": "code",
   "execution_count": 15,
   "id": "035232d7",
   "metadata": {
    "scrolled": true
   },
   "outputs": [
    {
     "data": {
      "image/png": "[encoded data removed]",
      "text/plain": [
       "<Figure size 720x576 with 2 Axes>"
      ]
     },
     "metadata": {
      "needs_background": "light"
     },
     "output_type": "display_data"
    }
   ],
   "source": [
    "plt.figure(figsize=(10,8))\n",
    "sns.heatmap(X.corr(), cmap='coolwarm', vmin=-1, vmax=1, annot=True, lw=1)\n",
    "plt.show()"
   ]
  },
  {
   "cell_type": "markdown",
   "id": "2c71c3bc",
   "metadata": {},
   "source": [
    "The only noteworthy correlatiton between features is that between Longitude and REGION_West. This is unsurprising because we would expect regions in the west to have a more negative longitude. We're going to keep both in and try to mitigate any impact of multicollinearity in our models through methods like dimensionilty reduction or regularization when we build them."
   ]
  },
  {
   "cell_type": "markdown",
   "id": "318607d0",
   "metadata": {},
   "source": [
    "I am going to sample from our dataframe in order to save computation time on some of the more computationally expensive models like K-nearest neighbors and Random Forest. When interpreting our results, it will be important to remember that for these algorithms we used sampled dataframes. This may affect results since there will be less data for the models to interpret."
   ]
  },
  {
   "cell_type": "code",
   "execution_count": 16,
   "id": "42c33c46",
   "metadata": {},
   "outputs": [
    {
     "data": {
      "text/plain": [
       "Small    0.505635\n",
       "Large    0.494365\n",
       "Name: SIZE_BINARY_CLASS, dtype: float64"
      ]
     },
     "execution_count": 16,
     "metadata": {},
     "output_type": "execute_result"
    }
   ],
   "source": [
    "# Distribution of target variable in original dataframe\n",
    "df['SIZE_BINARY_CLASS'].value_counts(normalize=True)"
   ]
  },
  {
   "cell_type": "code",
   "execution_count": 17,
   "id": "8ecbcb1c",
   "metadata": {},
   "outputs": [
    {
     "data": {
      "text/plain": [
       "Small    0.505109\n",
       "Large    0.494891\n",
       "Name: SIZE_BINARY_CLASS, dtype: float64"
      ]
     },
     "execution_count": 17,
     "metadata": {},
     "output_type": "execute_result"
    }
   ],
   "source": [
    "#sample from dataframe - s for sample\n",
    "sdf = df.sample(frac=.05, random_state=11)\n",
    "sdf['SIZE_BINARY_CLASS'].value_counts(normalize=True)"
   ]
  },
  {
   "cell_type": "code",
   "execution_count": 18,
   "id": "ffde43a9",
   "metadata": {},
   "outputs": [
    {
     "data": {
      "text/plain": [
       "(114997, 17)"
      ]
     },
     "execution_count": 18,
     "metadata": {},
     "output_type": "execute_result"
    }
   ],
   "source": [
    "sdf.shape"
   ]
  },
  {
   "cell_type": "code",
   "execution_count": 19,
   "id": "90b1dc00",
   "metadata": {},
   "outputs": [
    {
     "data": {
      "text/html": [
       "<div>\n",
       "<style scoped>\n",
       "    .dataframe tbody tr th:only-of-type {\n",
       "        vertical-align: middle;\n",
       "    }\n",
       "\n",
       "    .dataframe tbody tr th {\n",
       "        vertical-align: top;\n",
       "    }\n",
       "\n",
       "    .dataframe thead th {\n",
       "        text-align: right;\n",
       "    }\n",
       "</style>\n",
       "<table border=\"1\" class=\"dataframe\">\n",
       "  <thead>\n",
       "    <tr style=\"text-align: right;\">\n",
       "      <th></th>\n",
       "      <th>FIRE_YEAR</th>\n",
       "      <th>DISCOVERY_DOY</th>\n",
       "      <th>LATITUDE</th>\n",
       "      <th>LONGITUDE</th>\n",
       "      <th>DISCOVERY_TIME_Evening</th>\n",
       "      <th>DISCOVERY_TIME_Midday</th>\n",
       "      <th>DISCOVERY_TIME_Night or Morning</th>\n",
       "      <th>NWCG_CAUSE_CLASSIFICATION_Human</th>\n",
       "      <th>NWCG_CAUSE_CLASSIFICATION_Natural</th>\n",
       "      <th>OWNER_DESCR_Government</th>\n",
       "      <th>OWNER_DESCR_Private</th>\n",
       "      <th>REGION_East</th>\n",
       "      <th>REGION_Midwest</th>\n",
       "      <th>REGION_West</th>\n",
       "    </tr>\n",
       "  </thead>\n",
       "  <tbody>\n",
       "    <tr>\n",
       "      <th>751212</th>\n",
       "      <td>2001</td>\n",
       "      <td>135</td>\n",
       "      <td>44.524980</td>\n",
       "      <td>-103.457020</td>\n",
       "      <td>0</td>\n",
       "      <td>0</td>\n",
       "      <td>0</td>\n",
       "      <td>1</td>\n",
       "      <td>0</td>\n",
       "      <td>0</td>\n",
       "      <td>1</td>\n",
       "      <td>0</td>\n",
       "      <td>1</td>\n",
       "      <td>0</td>\n",
       "    </tr>\n",
       "    <tr>\n",
       "      <th>1783988</th>\n",
       "      <td>2014</td>\n",
       "      <td>281</td>\n",
       "      <td>33.500700</td>\n",
       "      <td>-112.289800</td>\n",
       "      <td>1</td>\n",
       "      <td>0</td>\n",
       "      <td>0</td>\n",
       "      <td>0</td>\n",
       "      <td>0</td>\n",
       "      <td>0</td>\n",
       "      <td>0</td>\n",
       "      <td>0</td>\n",
       "      <td>0</td>\n",
       "      <td>1</td>\n",
       "    </tr>\n",
       "    <tr>\n",
       "      <th>813663</th>\n",
       "      <td>2005</td>\n",
       "      <td>289</td>\n",
       "      <td>31.060600</td>\n",
       "      <td>-90.411400</td>\n",
       "      <td>0</td>\n",
       "      <td>0</td>\n",
       "      <td>0</td>\n",
       "      <td>1</td>\n",
       "      <td>0</td>\n",
       "      <td>0</td>\n",
       "      <td>0</td>\n",
       "      <td>0</td>\n",
       "      <td>0</td>\n",
       "      <td>0</td>\n",
       "    </tr>\n",
       "    <tr>\n",
       "      <th>501812</th>\n",
       "      <td>1998</td>\n",
       "      <td>101</td>\n",
       "      <td>46.032830</td>\n",
       "      <td>-94.350666</td>\n",
       "      <td>0</td>\n",
       "      <td>0</td>\n",
       "      <td>0</td>\n",
       "      <td>1</td>\n",
       "      <td>0</td>\n",
       "      <td>0</td>\n",
       "      <td>1</td>\n",
       "      <td>0</td>\n",
       "      <td>1</td>\n",
       "      <td>0</td>\n",
       "    </tr>\n",
       "    <tr>\n",
       "      <th>1547576</th>\n",
       "      <td>2011</td>\n",
       "      <td>56</td>\n",
       "      <td>28.840313</td>\n",
       "      <td>-98.599548</td>\n",
       "      <td>0</td>\n",
       "      <td>0</td>\n",
       "      <td>0</td>\n",
       "      <td>1</td>\n",
       "      <td>0</td>\n",
       "      <td>0</td>\n",
       "      <td>0</td>\n",
       "      <td>0</td>\n",
       "      <td>0</td>\n",
       "      <td>0</td>\n",
       "    </tr>\n",
       "  </tbody>\n",
       "</table>\n",
       "</div>"
      ],
      "text/plain": [
       "         FIRE_YEAR  DISCOVERY_DOY   LATITUDE   LONGITUDE  \\\n",
       "751212        2001            135  44.524980 -103.457020   \n",
       "1783988       2014            281  33.500700 -112.289800   \n",
       "813663        2005            289  31.060600  -90.411400   \n",
       "501812        1998            101  46.032830  -94.350666   \n",
       "1547576       2011             56  28.840313  -98.599548   \n",
       "\n",
       "         DISCOVERY_TIME_Evening  DISCOVERY_TIME_Midday  \\\n",
       "751212                        0                      0   \n",
       "1783988                       1                      0   \n",
       "813663                        0                      0   \n",
       "501812                        0                      0   \n",
       "1547576                       0                      0   \n",
       "\n",
       "         DISCOVERY_TIME_Night or Morning  NWCG_CAUSE_CLASSIFICATION_Human  \\\n",
       "751212                                 0                                1   \n",
       "1783988                                0                                0   \n",
       "813663                                 0                                1   \n",
       "501812                                 0                                1   \n",
       "1547576                                0                                1   \n",
       "\n",
       "         NWCG_CAUSE_CLASSIFICATION_Natural  OWNER_DESCR_Government  \\\n",
       "751212                                   0                       0   \n",
       "1783988                                  0                       0   \n",
       "813663                                   0                       0   \n",
       "501812                                   0                       0   \n",
       "1547576                                  0                       0   \n",
       "\n",
       "         OWNER_DESCR_Private  REGION_East  REGION_Midwest  REGION_West  \n",
       "751212                     1            0               1            0  \n",
       "1783988                    0            0               0            1  \n",
       "813663                     0            0               0            0  \n",
       "501812                     1            0               1            0  \n",
       "1547576                    0            0               0            0  "
      ]
     },
     "execution_count": 19,
     "metadata": {},
     "output_type": "execute_result"
    }
   ],
   "source": [
    "# X1 and y1 for samples!\n",
    "X1 = sdf.drop(['SIZE_BINARY_CLASS', 'FIRE_SIZE_CLASS', 'FIRE_SIZE'], axis=1)\n",
    "y1 = sdf['SIZE_BINARY_CLASS']\n",
    "X1.head()"
   ]
  },
  {
   "cell_type": "code",
   "execution_count": 20,
   "id": "91c6a6b9",
   "metadata": {},
   "outputs": [
    {
     "data": {
      "text/plain": [
       "(114997, 14)"
      ]
     },
     "execution_count": 20,
     "metadata": {},
     "output_type": "execute_result"
    }
   ],
   "source": [
    "X1.shape"
   ]
  },
  {
   "cell_type": "code",
   "execution_count": 21,
   "id": "1c5a1672",
   "metadata": {
    "scrolled": true
   },
   "outputs": [
    {
     "data": {
      "text/plain": [
       "(114997,)"
      ]
     },
     "execution_count": 21,
     "metadata": {},
     "output_type": "execute_result"
    }
   ],
   "source": [
    "y1.shape"
   ]
  },
  {
   "cell_type": "markdown",
   "id": "6feaf647",
   "metadata": {},
   "source": [
    "#### Smaller Sample"
   ]
  },
  {
   "cell_type": "code",
   "execution_count": 22,
   "id": "6d9c2b62",
   "metadata": {},
   "outputs": [
    {
     "data": {
      "text/plain": [
       "Small    0.505022\n",
       "Large    0.494978\n",
       "Name: SIZE_BINARY_CLASS, dtype: float64"
      ]
     },
     "execution_count": 22,
     "metadata": {},
     "output_type": "execute_result"
    }
   ],
   "source": [
    "#sample from dataframe - s for sample\n",
    "sdf1 = df.sample(frac=.01, random_state=11)\n",
    "sdf1['SIZE_BINARY_CLASS'].value_counts(normalize=True)"
   ]
  },
  {
   "cell_type": "code",
   "execution_count": 23,
   "id": "8fd8315e",
   "metadata": {},
   "outputs": [
    {
     "data": {
      "text/html": [
       "<div>\n",
       "<style scoped>\n",
       "    .dataframe tbody tr th:only-of-type {\n",
       "        vertical-align: middle;\n",
       "    }\n",
       "\n",
       "    .dataframe tbody tr th {\n",
       "        vertical-align: top;\n",
       "    }\n",
       "\n",
       "    .dataframe thead th {\n",
       "        text-align: right;\n",
       "    }\n",
       "</style>\n",
       "<table border=\"1\" class=\"dataframe\">\n",
       "  <thead>\n",
       "    <tr style=\"text-align: right;\">\n",
       "      <th></th>\n",
       "      <th>FIRE_YEAR</th>\n",
       "      <th>DISCOVERY_DOY</th>\n",
       "      <th>LATITUDE</th>\n",
       "      <th>LONGITUDE</th>\n",
       "      <th>DISCOVERY_TIME_Evening</th>\n",
       "      <th>DISCOVERY_TIME_Midday</th>\n",
       "      <th>DISCOVERY_TIME_Night or Morning</th>\n",
       "      <th>NWCG_CAUSE_CLASSIFICATION_Human</th>\n",
       "      <th>NWCG_CAUSE_CLASSIFICATION_Natural</th>\n",
       "      <th>OWNER_DESCR_Government</th>\n",
       "      <th>OWNER_DESCR_Private</th>\n",
       "      <th>REGION_East</th>\n",
       "      <th>REGION_Midwest</th>\n",
       "      <th>REGION_West</th>\n",
       "    </tr>\n",
       "  </thead>\n",
       "  <tbody>\n",
       "    <tr>\n",
       "      <th>751212</th>\n",
       "      <td>2001</td>\n",
       "      <td>135</td>\n",
       "      <td>44.524980</td>\n",
       "      <td>-103.457020</td>\n",
       "      <td>0</td>\n",
       "      <td>0</td>\n",
       "      <td>0</td>\n",
       "      <td>1</td>\n",
       "      <td>0</td>\n",
       "      <td>0</td>\n",
       "      <td>1</td>\n",
       "      <td>0</td>\n",
       "      <td>1</td>\n",
       "      <td>0</td>\n",
       "    </tr>\n",
       "    <tr>\n",
       "      <th>1783988</th>\n",
       "      <td>2014</td>\n",
       "      <td>281</td>\n",
       "      <td>33.500700</td>\n",
       "      <td>-112.289800</td>\n",
       "      <td>1</td>\n",
       "      <td>0</td>\n",
       "      <td>0</td>\n",
       "      <td>0</td>\n",
       "      <td>0</td>\n",
       "      <td>0</td>\n",
       "      <td>0</td>\n",
       "      <td>0</td>\n",
       "      <td>0</td>\n",
       "      <td>1</td>\n",
       "    </tr>\n",
       "    <tr>\n",
       "      <th>813663</th>\n",
       "      <td>2005</td>\n",
       "      <td>289</td>\n",
       "      <td>31.060600</td>\n",
       "      <td>-90.411400</td>\n",
       "      <td>0</td>\n",
       "      <td>0</td>\n",
       "      <td>0</td>\n",
       "      <td>1</td>\n",
       "      <td>0</td>\n",
       "      <td>0</td>\n",
       "      <td>0</td>\n",
       "      <td>0</td>\n",
       "      <td>0</td>\n",
       "      <td>0</td>\n",
       "    </tr>\n",
       "    <tr>\n",
       "      <th>501812</th>\n",
       "      <td>1998</td>\n",
       "      <td>101</td>\n",
       "      <td>46.032830</td>\n",
       "      <td>-94.350666</td>\n",
       "      <td>0</td>\n",
       "      <td>0</td>\n",
       "      <td>0</td>\n",
       "      <td>1</td>\n",
       "      <td>0</td>\n",
       "      <td>0</td>\n",
       "      <td>1</td>\n",
       "      <td>0</td>\n",
       "      <td>1</td>\n",
       "      <td>0</td>\n",
       "    </tr>\n",
       "    <tr>\n",
       "      <th>1547576</th>\n",
       "      <td>2011</td>\n",
       "      <td>56</td>\n",
       "      <td>28.840313</td>\n",
       "      <td>-98.599548</td>\n",
       "      <td>0</td>\n",
       "      <td>0</td>\n",
       "      <td>0</td>\n",
       "      <td>1</td>\n",
       "      <td>0</td>\n",
       "      <td>0</td>\n",
       "      <td>0</td>\n",
       "      <td>0</td>\n",
       "      <td>0</td>\n",
       "      <td>0</td>\n",
       "    </tr>\n",
       "  </tbody>\n",
       "</table>\n",
       "</div>"
      ],
      "text/plain": [
       "         FIRE_YEAR  DISCOVERY_DOY   LATITUDE   LONGITUDE  \\\n",
       "751212        2001            135  44.524980 -103.457020   \n",
       "1783988       2014            281  33.500700 -112.289800   \n",
       "813663        2005            289  31.060600  -90.411400   \n",
       "501812        1998            101  46.032830  -94.350666   \n",
       "1547576       2011             56  28.840313  -98.599548   \n",
       "\n",
       "         DISCOVERY_TIME_Evening  DISCOVERY_TIME_Midday  \\\n",
       "751212                        0                      0   \n",
       "1783988                       1                      0   \n",
       "813663                        0                      0   \n",
       "501812                        0                      0   \n",
       "1547576                       0                      0   \n",
       "\n",
       "         DISCOVERY_TIME_Night or Morning  NWCG_CAUSE_CLASSIFICATION_Human  \\\n",
       "751212                                 0                                1   \n",
       "1783988                                0                                0   \n",
       "813663                                 0                                1   \n",
       "501812                                 0                                1   \n",
       "1547576                                0                                1   \n",
       "\n",
       "         NWCG_CAUSE_CLASSIFICATION_Natural  OWNER_DESCR_Government  \\\n",
       "751212                                   0                       0   \n",
       "1783988                                  0                       0   \n",
       "813663                                   0                       0   \n",
       "501812                                   0                       0   \n",
       "1547576                                  0                       0   \n",
       "\n",
       "         OWNER_DESCR_Private  REGION_East  REGION_Midwest  REGION_West  \n",
       "751212                     1            0               1            0  \n",
       "1783988                    0            0               0            1  \n",
       "813663                     0            0               0            0  \n",
       "501812                     1            0               1            0  \n",
       "1547576                    0            0               0            0  "
      ]
     },
     "execution_count": 23,
     "metadata": {},
     "output_type": "execute_result"
    }
   ],
   "source": [
    "# X2 and y2 for samples!\n",
    "X2 = sdf1.drop(['SIZE_BINARY_CLASS', 'FIRE_SIZE_CLASS', 'FIRE_SIZE'], axis=1)\n",
    "y2 = sdf1['SIZE_BINARY_CLASS']\n",
    "X2.head()"
   ]
  },
  {
   "cell_type": "code",
   "execution_count": 24,
   "id": "004905bf",
   "metadata": {},
   "outputs": [
    {
     "data": {
      "text/plain": [
       "(22999, 14)"
      ]
     },
     "execution_count": 24,
     "metadata": {},
     "output_type": "execute_result"
    }
   ],
   "source": [
    "X2.shape"
   ]
  },
  {
   "cell_type": "code",
   "execution_count": 25,
   "id": "bcb7aed0",
   "metadata": {},
   "outputs": [],
   "source": [
    "X_train2, X_test2, y_train2, y_test2 = train_test_split(X2, y2, test_size=0.3, stratify=y2, random_state=11)"
   ]
  },
  {
   "cell_type": "code",
   "execution_count": 26,
   "id": "0be683a7",
   "metadata": {},
   "outputs": [],
   "source": [
    "#splitting training data into training and validation\n",
    "X_train2, X_val2, y_train2, y_val2 = train_test_split(X_train2, y_train2, test_size=0.3, stratify=y_train2, random_state=11)"
   ]
  },
  {
   "cell_type": "code",
   "execution_count": 27,
   "id": "86897eee",
   "metadata": {},
   "outputs": [
    {
     "data": {
      "text/plain": [
       "(6900, 14)"
      ]
     },
     "execution_count": 27,
     "metadata": {},
     "output_type": "execute_result"
    }
   ],
   "source": [
    "X_test2.shape"
   ]
  },
  {
   "cell_type": "code",
   "execution_count": 28,
   "id": "36dea927",
   "metadata": {},
   "outputs": [
    {
     "data": {
      "text/plain": [
       "(6900,)"
      ]
     },
     "execution_count": 28,
     "metadata": {},
     "output_type": "execute_result"
    }
   ],
   "source": [
    "y_test2.shape"
   ]
  },
  {
   "cell_type": "markdown",
   "id": "875c7d82",
   "metadata": {},
   "source": [
    "### Our First Model:\n",
    "First, we're going to start with a very basic model: we will apply a logistic regression along with a standard scaler simply to get an idea of how the most basic model will score on our data."
   ]
  },
  {
   "cell_type": "code",
   "execution_count": 29,
   "id": "c6ad006d",
   "metadata": {},
   "outputs": [],
   "source": [
    "estimators = [('normalize', StandardScaler()),\n",
    "              ('model', LogisticRegression())]\n",
    "\n",
    "pipe = Pipeline(estimators)"
   ]
  },
  {
   "cell_type": "markdown",
   "id": "0a2064cb",
   "metadata": {},
   "source": [
    "### train-test split of full data"
   ]
  },
  {
   "cell_type": "code",
   "execution_count": 30,
   "id": "b47387e9",
   "metadata": {},
   "outputs": [],
   "source": [
    "X_train, X_test, y_train, y_test = train_test_split(X, y, test_size=0.3, stratify=y, random_state=11)"
   ]
  },
  {
   "cell_type": "code",
   "execution_count": 31,
   "id": "9d1bf31f",
   "metadata": {},
   "outputs": [],
   "source": [
    "#splitting training data into training and validation\n",
    "X_train, X_val, y_train, y_val = train_test_split(X_train, y_train, test_size=0.3, stratify=y_train, random_state=11)\n",
    "\n"
   ]
  },
  {
   "cell_type": "code",
   "execution_count": 32,
   "id": "15fb79d4",
   "metadata": {},
   "outputs": [
    {
     "data": {
      "text/plain": [
       "0.6737427171802082"
      ]
     },
     "execution_count": 32,
     "metadata": {},
     "output_type": "execute_result"
    }
   ],
   "source": [
    "pipe.fit(X_train, y_train)\n",
    "\n",
    "pipe.score(X_test, y_test)"
   ]
  },
  {
   "cell_type": "code",
   "execution_count": 33,
   "id": "997f26c0",
   "metadata": {},
   "outputs": [
    {
     "data": {
      "text/plain": [
       "0.674151660298536"
      ]
     },
     "execution_count": 33,
     "metadata": {},
     "output_type": "execute_result"
    }
   ],
   "source": [
    "pipe.score(X_train, y_train)"
   ]
  },
  {
   "cell_type": "markdown",
   "id": "3c78888b",
   "metadata": {},
   "source": [
    "### Our baseline model\n",
    "The reason for conducting this extremely simple and nonoptimized model is to give us a basis for how our models should be performing. Since the simplest non-optimized model gives us a score of 68% accuracy, then we can use that as a reference point for comparing against. Let's use cross validation to get a better idea of the accuracy:"
   ]
  },
  {
   "cell_type": "code",
   "execution_count": 34,
   "id": "c9938284",
   "metadata": {},
   "outputs": [
    {
     "data": {
      "text/plain": [
       "array([0.67349175, 0.67452405, 0.67319748, 0.67428891, 0.67504758])"
      ]
     },
     "execution_count": 34,
     "metadata": {},
     "output_type": "execute_result"
    }
   ],
   "source": [
    "cross_val_score(pipe, X_train, y_train, cv=5)"
   ]
  },
  {
   "cell_type": "code",
   "execution_count": 35,
   "id": "613ec421",
   "metadata": {},
   "outputs": [
    {
     "data": {
      "text/plain": [
       "0.674109955950937"
      ]
     },
     "execution_count": 35,
     "metadata": {},
     "output_type": "execute_result"
    }
   ],
   "source": [
    "avg_val_score = np.mean(cross_val_score(pipe, X_train, y_train, cv=5))\n",
    "avg_val_score"
   ]
  },
  {
   "cell_type": "markdown",
   "id": "c4c98c18",
   "metadata": {},
   "source": [
    "Now let's apply our baseline model to our sampled dataframe to make sure that our sampled dataframe does not differ too much from our original:"
   ]
  },
  {
   "cell_type": "code",
   "execution_count": 36,
   "id": "93bed0a9",
   "metadata": {},
   "outputs": [],
   "source": [
    "X_train1, X_test1, y_train1, y_test1 = train_test_split(X1, y1, test_size=0.3, stratify=y1, random_state=11)"
   ]
  },
  {
   "cell_type": "code",
   "execution_count": 37,
   "id": "a7fb87dd",
   "metadata": {},
   "outputs": [],
   "source": [
    "#splitting training data into training and validation\n",
    "X_train1, X_val1, y_train1, y_val1 = train_test_split(X_train1, y_train1, test_size=0.3, stratify=y_train1, random_state=11)\n",
    "\n"
   ]
  },
  {
   "cell_type": "code",
   "execution_count": 38,
   "id": "42076d4b",
   "metadata": {},
   "outputs": [
    {
     "data": {
      "text/plain": [
       "0.6717391304347826"
      ]
     },
     "execution_count": 38,
     "metadata": {},
     "output_type": "execute_result"
    }
   ],
   "source": [
    "pipe.fit(X_train1, y_train1)\n",
    "\n",
    "pipe.score(X_test1, y_test1)"
   ]
  },
  {
   "cell_type": "code",
   "execution_count": 39,
   "id": "96919c22",
   "metadata": {},
   "outputs": [
    {
     "data": {
      "text/plain": [
       "0.6722807195466705"
      ]
     },
     "execution_count": 39,
     "metadata": {},
     "output_type": "execute_result"
    }
   ],
   "source": [
    "avg_val_score = np.mean(cross_val_score(pipe, X_train1, y_train1, cv=5))\n",
    "avg_val_score"
   ]
  },
  {
   "cell_type": "markdown",
   "id": "a3b60c9a",
   "metadata": {},
   "source": [
    "These results are very similar to those of our full dataframe, so we can proceed with modeling from the sample dataframe."
   ]
  },
  {
   "cell_type": "markdown",
   "id": "380bb9fc",
   "metadata": {},
   "source": [
    "Now, let's try to optimize our Logistic model and see how well we can make it perform. To optimize all of our models, we will be using a grid search method from Sklearn that will allow us to iterate over the various possible combinations of hyperparameters. This will help us optimize those hyperparameters used for each model. \n",
    "\n",
    "For logistic regression, we will employ PCA and optimize the number of principal components, the C regularization parameter, and the regularization method (lasso versus ridge regression). All of these will be used to prevent overfitting. "
   ]
  },
  {
   "cell_type": "markdown",
   "id": "d6dfd5da",
   "metadata": {},
   "source": [
    "### Logistic Regression Optimization"
   ]
  },
  {
   "cell_type": "code",
   "execution_count": 48,
   "id": "33edac21",
   "metadata": {},
   "outputs": [],
   "source": [
    "# Create the pipeline\n",
    "estimators = [\n",
    "    ('scaler', StandardScaler()),\n",
    "    ('pca', PCA()),\n",
    "    ('lrmodel', LogisticRegression())\n",
    "]\n",
    "pipe = Pipeline(estimators)\n",
    "\n",
    "# Parameters\n",
    "params = {\n",
    "    # Number of PCA components:\n",
    "    'pca__n_components': np.arange(1, 18),\n",
    "    # C regularization parameter for LogReg\n",
    "    'lrmodel__C': [0.001, 0.01, 0.1, 1, 10, 100],\n",
    "    # Regularization Method: l1 for Lasso and l2 for Ridge regression\n",
    "    'lrmodel__penalty': ['l1', 'l2']\n",
    "}\n",
    "\n",
    "# Create the GridSearchCV object\n",
    "grid_search = GridSearchCV(pipe, param_grid=params)\n",
    "\n",
    "# Fit the GridSearchCV object to the data\n",
    "fitted_grid_log = grid_search.fit(X_train, y_train)"
   ]
  },
  {
   "cell_type": "code",
   "execution_count": 49,
   "id": "278b51c6",
   "metadata": {},
   "outputs": [
    {
     "data": {
      "text/plain": [
       "0.6757152381228442"
      ]
     },
     "execution_count": 49,
     "metadata": {},
     "output_type": "execute_result"
    }
   ],
   "source": [
    "fitted_grid_log.score(X_val, y_val)"
   ]
  },
  {
   "cell_type": "code",
   "execution_count": 50,
   "id": "2c159341",
   "metadata": {},
   "outputs": [
    {
     "data": {
      "text/plain": [
       "{'lrmodel__C': 0.1, 'lrmodel__penalty': 'l2', 'pca__n_components': 17}"
      ]
     },
     "execution_count": 50,
     "metadata": {},
     "output_type": "execute_result"
    }
   ],
   "source": [
    "fitted_grid_log.best_params_"
   ]
  },
  {
   "cell_type": "code",
   "execution_count": 51,
   "id": "017b7a1a",
   "metadata": {},
   "outputs": [
    {
     "data": {
      "text/plain": [
       "0.6757398765181599"
      ]
     },
     "execution_count": 51,
     "metadata": {},
     "output_type": "execute_result"
    }
   ],
   "source": [
    "fitted_grid_log.score(X_test, y_test)"
   ]
  },
  {
   "cell_type": "markdown",
   "id": "44dcbe96",
   "metadata": {},
   "source": [
    "Our optimized logistic regression model is almost exactly the same as our basis model! We optimized it with a C of 0.1, using L2 regularization, and including 17 principal components and yielded about the same accuracy. This probably means that logistic regression will not be an optimal model to use to predict wildfire size. Let's try a Decision Tree!\n",
    "\n",
    "For our decision tree, we will be optimizing the PCA components, the max depth, and the minimum samples per leaf. Pruning the decision tree will prevent overfitting. "
   ]
  },
  {
   "cell_type": "markdown",
   "id": "c60992cb",
   "metadata": {},
   "source": [
    "### Decision Tree"
   ]
  },
  {
   "cell_type": "code",
   "execution_count": 52,
   "id": "c9b43e58",
   "metadata": {},
   "outputs": [],
   "source": [
    "# Create the pipeline\n",
    "estimators = [\n",
    "    ('scaler', StandardScaler()),\n",
    "    ('pca', PCA()),\n",
    "    ('DT', DecisionTreeClassifier())\n",
    "]\n",
    "pipe = Pipeline(estimators)\n",
    "\n",
    "# Define the hyperparameters and their candidate values for GridSearchCV\n",
    "params = {\n",
    "    # Number of PCA components:\n",
    "    'pca__n_components': np.arange(1, 18),\n",
    "    # Max Depth of DT\n",
    "    'DT__max_depth': [1, 2, 3, 4, 5, 6, 7, 8],\n",
    "    # Minimum samples per leaf\n",
    "    'DT__min_samples_leaf': [1, 5, 10, 20, 50, 100]\n",
    "}\n",
    "\n",
    "# Create the GridSearchCV object\n",
    "grid_search = GridSearchCV(pipe, param_grid=params)\n",
    "\n",
    "# Fit the GridSearchCV object to the data\n",
    "fitted_grid_dt = grid_search.fit(X_train, y_train)"
   ]
  },
  {
   "cell_type": "code",
   "execution_count": 53,
   "id": "426f4c74",
   "metadata": {},
   "outputs": [
    {
     "data": {
      "text/plain": [
       "0.7044365675195554"
      ]
     },
     "execution_count": 53,
     "metadata": {},
     "output_type": "execute_result"
    }
   ],
   "source": [
    "fitted_grid_dt.score(X_val, y_val)"
   ]
  },
  {
   "cell_type": "code",
   "execution_count": 54,
   "id": "eaeb337a",
   "metadata": {},
   "outputs": [
    {
     "data": {
      "text/plain": [
       "{'DT__max_depth': 8, 'DT__min_samples_leaf': 1, 'pca__n_components': 16}"
      ]
     },
     "execution_count": 54,
     "metadata": {},
     "output_type": "execute_result"
    }
   ],
   "source": [
    "fitted_grid_dt.best_params_"
   ]
  },
  {
   "cell_type": "code",
   "execution_count": 55,
   "id": "8788a25e",
   "metadata": {},
   "outputs": [
    {
     "data": {
      "text/plain": [
       "0.7039928693585321"
      ]
     },
     "execution_count": 55,
     "metadata": {},
     "output_type": "execute_result"
    }
   ],
   "source": [
    "fitted_grid_dt.score(X_test, y_test)"
   ]
  },
  {
   "cell_type": "markdown",
   "id": "1b891828",
   "metadata": {},
   "source": [
    "For our decision tree model, we were able to yield an accuracy of 70.4% on our full dataset. This was using a decision tree with a max depth of 8, a minimum leaf samples of 1, and 16 principal components. Now, we will move on to a K-Nearest Neighbors algorithm to see if we can improve our performance even more.\n",
    "\n",
    "For our KNN model, we will be optimizing the PCA components, as well as the number of neighbors used to determine the prediction."
   ]
  },
  {
   "cell_type": "markdown",
   "id": "904b58dd",
   "metadata": {},
   "source": [
    "### KNN"
   ]
  },
  {
   "cell_type": "code",
   "execution_count": 56,
   "id": "ac2fcfb5",
   "metadata": {},
   "outputs": [],
   "source": [
    "# Create the pipeline\n",
    "estimators = [\n",
    "    ('scaler', StandardScaler()),\n",
    "    ('pca', PCA()),\n",
    "    ('KNN', KNeighborsClassifier())\n",
    "]\n",
    "pipe = Pipeline(estimators)\n",
    "\n",
    "# Define the hyperparameters and their candidate values for GridSearchCV\n",
    "params = {\n",
    "    # Number of PCA components:\n",
    "    'pca__n_components': np.arange(1, 18),\n",
    "    # K neighbors\n",
    "    'KNN__n_neighbors': range(1, 46, 2)\n",
    "}\n",
    "\n",
    "# Create the GridSearchCV object\n",
    "grid_search = GridSearchCV(pipe, param_grid=params)\n",
    "\n",
    "# Fit the GridSearchCV object to the data\n",
    "fitted_grid_knn = grid_search.fit(X_train2, y_train2)"
   ]
  },
  {
   "cell_type": "code",
   "execution_count": 57,
   "id": "ac366523",
   "metadata": {
    "scrolled": true
   },
   "outputs": [
    {
     "data": {
      "text/plain": [
       "0.6971014492753623"
      ]
     },
     "execution_count": 57,
     "metadata": {},
     "output_type": "execute_result"
    }
   ],
   "source": [
    "fitted_grid_knn.score(X_val2, y_val2)"
   ]
  },
  {
   "cell_type": "code",
   "execution_count": 58,
   "id": "e9171124",
   "metadata": {
    "scrolled": true
   },
   "outputs": [
    {
     "data": {
      "text/plain": [
       "{'KNN__n_neighbors': 33, 'pca__n_components': 15}"
      ]
     },
     "execution_count": 58,
     "metadata": {},
     "output_type": "execute_result"
    }
   ],
   "source": [
    "fitted_grid_knn.best_params_"
   ]
  },
  {
   "cell_type": "code",
   "execution_count": 59,
   "id": "4c9582c5",
   "metadata": {},
   "outputs": [
    {
     "data": {
      "text/plain": [
       "0.6866666666666666"
      ]
     },
     "execution_count": 59,
     "metadata": {},
     "output_type": "execute_result"
    }
   ],
   "source": [
    "fitted_grid_knn.score(X_test2, y_test2)"
   ]
  },
  {
   "cell_type": "markdown",
   "id": "3abda33c",
   "metadata": {},
   "source": [
    "Our K-Nearest Neighbors algorithm yielded a 68.7% accuracy on our sampled test set. This was acheived with 15 principal components and using 33 neighbors. The next model we will optimize will be a Support Vector Machine. "
   ]
  },
  {
   "cell_type": "code",
   "execution_count": 40,
   "id": "34df23c3",
   "metadata": {},
   "outputs": [],
   "source": [
    "#Testing KNN on full data set\n",
    "# Create the pipeline\n",
    "estimators = [\n",
    "    ('scaler', StandardScaler()),\n",
    "    ('pca', PCA()),\n",
    "    ('KNN', KNeighborsClassifier())\n",
    "]\n",
    "pipe = Pipeline(estimators)\n",
    "\n",
    "# Define the hyperparameters and their candidate values for GridSearchCV\n",
    "params = {\n",
    "    # Number of PCA components:\n",
    "    'pca__n_components': np.arange(1, 18),\n",
    "    # K neighbors\n",
    "    'KNN__n_neighbors': range(1, 46, 2)\n",
    "}\n",
    "\n",
    "# Create the GridSearchCV object\n",
    "grid_search = GridSearchCV(pipe, param_grid=params)\n",
    "\n",
    "# Fit the GridSearchCV object to the data\n",
    "fitted_grid_knn = grid_search.fit(X_train, y_train)"
   ]
  },
  {
   "cell_type": "code",
   "execution_count": 41,
   "id": "2284f523",
   "metadata": {},
   "outputs": [
    {
     "data": {
      "text/plain": [
       "0.731950822591131"
      ]
     },
     "execution_count": 41,
     "metadata": {},
     "output_type": "execute_result"
    }
   ],
   "source": [
    "fitted_grid_knn.score(X_val, y_val)"
   ]
  },
  {
   "cell_type": "code",
   "execution_count": 42,
   "id": "8e5330b4",
   "metadata": {},
   "outputs": [
    {
     "data": {
      "text/plain": [
       "{'KNN__n_neighbors': 29, 'pca__n_components': 14}"
      ]
     },
     "execution_count": 42,
     "metadata": {},
     "output_type": "execute_result"
    }
   ],
   "source": [
    "fitted_grid_knn.best_params_"
   ]
  },
  {
   "cell_type": "code",
   "execution_count": 43,
   "id": "358bd15f",
   "metadata": {},
   "outputs": [
    {
     "data": {
      "text/plain": [
       "0.7317704861010464"
      ]
     },
     "execution_count": 43,
     "metadata": {},
     "output_type": "execute_result"
    }
   ],
   "source": [
    "fitted_grid_knn.score(X_test, y_test)"
   ]
  },
  {
   "cell_type": "markdown",
   "id": "c5a4f76c",
   "metadata": {},
   "source": [
    "### Support Vector Machine\n",
    "The support vector machine is a versatile algorithm. For our model, we will be conducting a grid search in which we use the kernel trick to test whether a linear decision boundary or a non-linear decision boundary is better. So, the kernel used will either be linear or the rbf function. In addition, we will be testing the C regularization parameter as well as principal components, as usual."
   ]
  },
  {
   "cell_type": "code",
   "execution_count": null,
   "id": "0cb7076f",
   "metadata": {},
   "outputs": [],
   "source": []
  },
  {
   "cell_type": "code",
   "execution_count": 61,
   "id": "36cade77",
   "metadata": {},
   "outputs": [],
   "source": [
    "# Create the pipeline\n",
    "estimators = [\n",
    "    ('scaler', StandardScaler()),\n",
    "    ('pca', PCA()),\n",
    "    ('kernel', SVC())\n",
    "]\n",
    "pipe = Pipeline(estimators)\n",
    "\n",
    "params = {\n",
    "    # Number of PCA components:\n",
    "    'pca__n_components': np.arange(1, 18),\n",
    "    # C for kernel trick\n",
    "    'kernel__C': [0.01, 0.1, 1, 10, 100],\n",
    "    'kernel__kernel': ['linear', 'rbf']\n",
    "}\n",
    "\n",
    "# Create the GridSearchCV object\n",
    "grid_search = GridSearchCV(pipe, param_grid=params)\n",
    "\n",
    "# Fit the GridSearchCV object to the data\n",
    "fitted_grid_svm = grid_search.fit(X_train2, y_train2)"
   ]
  },
  {
   "cell_type": "code",
   "execution_count": 62,
   "id": "b9340aed",
   "metadata": {},
   "outputs": [
    {
     "data": {
      "text/plain": [
       "0.7018633540372671"
      ]
     },
     "execution_count": 62,
     "metadata": {},
     "output_type": "execute_result"
    }
   ],
   "source": [
    "fitted_grid_svm.score(X_val2, y_val2)"
   ]
  },
  {
   "cell_type": "code",
   "execution_count": 63,
   "id": "19169cec",
   "metadata": {},
   "outputs": [
    {
     "data": {
      "text/plain": [
       "{'kernel__C': 10, 'kernel__kernel': 'rbf', 'pca__n_components': 14}"
      ]
     },
     "execution_count": 63,
     "metadata": {},
     "output_type": "execute_result"
    }
   ],
   "source": [
    "fitted_grid_svm.best_params_"
   ]
  },
  {
   "cell_type": "code",
   "execution_count": 64,
   "id": "96add578",
   "metadata": {},
   "outputs": [
    {
     "data": {
      "text/plain": [
       "0.6971014492753623"
      ]
     },
     "execution_count": 64,
     "metadata": {},
     "output_type": "execute_result"
    }
   ],
   "source": [
    "fitted_grid_svm.score(X_test2, y_test2)"
   ]
  },
  {
   "cell_type": "markdown",
   "id": "231ccc5a",
   "metadata": {},
   "source": [
    "Our support vector machine model yielded an accuracy of 69.99% accuracy with a C regularization parameter of 100, using an rbf kernel function, and 17 principal components. Next we will test two ensemble methods: random forest and Extreme Gradient Boost."
   ]
  },
  {
   "cell_type": "code",
   "execution_count": null,
   "id": "6bbbc1ca",
   "metadata": {},
   "outputs": [],
   "source": [
    "#SVM with Full Dataset\n",
    "# Create the pipeline\n",
    "estimators = [\n",
    "    ('scaler', StandardScaler()),\n",
    "    ('pca', PCA()),\n",
    "    ('kernel', SVC())\n",
    "]\n",
    "pipe = Pipeline(estimators)\n",
    "\n",
    "params = {\n",
    "    # Number of PCA components:\n",
    "    'pca__n_components': np.arange(1, 18),\n",
    "    # C for kernel trick\n",
    "    'kernel__C': [0.01, 0.1, 1, 10, 100],\n",
    "    'kernel__kernel': ['linear', 'rbf']\n",
    "}\n",
    "\n",
    "# Create the GridSearchCV object\n",
    "grid_search = GridSearchCV(pipe, param_grid=params)\n",
    "\n",
    "# Fit the GridSearchCV object to the data\n",
    "fitted_grid_svm = grid_search.fit(X_train, y_train)"
   ]
  },
  {
   "cell_type": "code",
   "execution_count": null,
   "id": "9a32af2a",
   "metadata": {},
   "outputs": [],
   "source": [
    "fitted_grid_svm.score(X_val, y_val)"
   ]
  },
  {
   "cell_type": "code",
   "execution_count": null,
   "id": "539a9608",
   "metadata": {},
   "outputs": [],
   "source": [
    "fitted_grid_svm.best_params_"
   ]
  },
  {
   "cell_type": "code",
   "execution_count": null,
   "id": "bc305b05",
   "metadata": {},
   "outputs": [],
   "source": [
    "fitted_grid_svm.score(X_test, y_test)"
   ]
  },
  {
   "cell_type": "markdown",
   "id": "0f5a1147",
   "metadata": {},
   "source": [
    "### Random Forest"
   ]
  },
  {
   "cell_type": "markdown",
   "id": "555287e5",
   "metadata": {},
   "source": [
    "Random forest is an ensemble algorithm that collects many decision trees and combines their results in order to make a single decision. So, the hyperparameters tested here will be the same as the decision tree hyperparameters with one addition: the number of trees in the so-called \"forest\". "
   ]
  },
  {
   "cell_type": "code",
   "execution_count": 69,
   "id": "7db59d62",
   "metadata": {},
   "outputs": [],
   "source": [
    "# Create the pipeline\n",
    "estimators = [\n",
    "    ('scaler', StandardScaler()),\n",
    "    ('pca', PCA()),\n",
    "    ('RF', RandomForestClassifier())\n",
    "]\n",
    "pipe = Pipeline(estimators)\n",
    "\n",
    "# Define the hyperparameters and their candidate values for GridSearchCV\n",
    "params = {\n",
    "    # Number of PCA components:\n",
    "    'pca__n_components': np.arange(1, 18),\n",
    "    # Max Depth of the trees\n",
    "    'RF__max_depth': [1, 2, 3, 4, 5, 6, 7, 8],\n",
    "    # Min Leaf Samples for each decision tree\n",
    "    'RF__min_samples_leaf': [1, 5, 10, 20, 50, 100],\n",
    "    # Number of Estimators for Random Forest\n",
    "    'RF__n_estimators': [10,50,100,200]\n",
    "}\n",
    "\n",
    "# Create the GridSearchCV object\n",
    "grid_search = GridSearchCV(pipe, param_grid=params)\n",
    "\n",
    "# Fit the GridSearchCV object to the data\n",
    "fitted_grid_rf = grid_search.fit(X_train2, y_train2)"
   ]
  },
  {
   "cell_type": "code",
   "execution_count": 73,
   "id": "f5cac051",
   "metadata": {},
   "outputs": [
    {
     "data": {
      "text/plain": [
       "0.7142857142857143"
      ]
     },
     "execution_count": 73,
     "metadata": {},
     "output_type": "execute_result"
    }
   ],
   "source": [
    "fitted_grid_rf.score(X_val2, y_val2)"
   ]
  },
  {
   "cell_type": "code",
   "execution_count": 74,
   "id": "ebf2eb4e",
   "metadata": {},
   "outputs": [
    {
     "data": {
      "text/plain": [
       "{'RF__max_depth': 8,\n",
       " 'RF__min_samples_leaf': 5,\n",
       " 'RF__n_estimators': 50,\n",
       " 'pca__n_components': 17}"
      ]
     },
     "execution_count": 74,
     "metadata": {},
     "output_type": "execute_result"
    }
   ],
   "source": [
    "fitted_grid_rf.best_params_"
   ]
  },
  {
   "cell_type": "code",
   "execution_count": 72,
   "id": "998505fa",
   "metadata": {},
   "outputs": [
    {
     "data": {
      "text/plain": [
       "0.6971014492753623"
      ]
     },
     "execution_count": 72,
     "metadata": {},
     "output_type": "execute_result"
    }
   ],
   "source": [
    "fitted_grid_rf.score(X_test2, y_test2)"
   ]
  },
  {
   "cell_type": "code",
   "execution_count": null,
   "id": "595a5de6",
   "metadata": {},
   "outputs": [],
   "source": []
  },
  {
   "cell_type": "markdown",
   "id": "9796ebd7",
   "metadata": {},
   "source": [
    "Our random forest model yielded an accuracy of 69.3%, with a max depth of the trees of 8, 100 minimum samples per leaf, 200 decision trees and 17 principal components. Our final model to be tested before employing deep learning will be XGBoost."
   ]
  },
  {
   "cell_type": "code",
   "execution_count": null,
   "id": "e9e867d6",
   "metadata": {},
   "outputs": [],
   "source": []
  },
  {
   "cell_type": "code",
   "execution_count": null,
   "id": "1561583f",
   "metadata": {},
   "outputs": [],
   "source": [
    "#RF with full dataset\n",
    "# Create the pipeline\n",
    "estimators = [\n",
    "    ('scaler', StandardScaler()),\n",
    "    ('pca', PCA()),\n",
    "    ('RF', RandomForestClassifier())\n",
    "]\n",
    "pipe = Pipeline(estimators)\n",
    "\n",
    "# Define the hyperparameters and their candidate values for GridSearchCV\n",
    "params = {\n",
    "    # Number of PCA components:\n",
    "    'pca__n_components': np.arange(1, 18),\n",
    "    # Max Depth of the trees\n",
    "    'RF__max_depth': [1, 2, 3, 4, 5, 6, 7, 8],\n",
    "    # Min Leaf Samples for each decision tree\n",
    "    'RF__min_samples_leaf': [1, 5, 10, 20, 50, 100],\n",
    "    # Number of Estimators for Random Forest\n",
    "    'RF__n_estimators': [10,50,100,200]\n",
    "}\n",
    "\n",
    "# Create the GridSearchCV object\n",
    "grid_search = GridSearchCV(pipe, param_grid=params)\n",
    "\n",
    "# Fit the GridSearchCV object to the data\n",
    "fitted_grid_rf = grid_search.fit(X_train, y_train)"
   ]
  },
  {
   "cell_type": "code",
   "execution_count": null,
   "id": "c8243d18",
   "metadata": {},
   "outputs": [],
   "source": [
    "fitted_grid_rf.score(X_val, y_val)"
   ]
  },
  {
   "cell_type": "code",
   "execution_count": null,
   "id": "71341c2a",
   "metadata": {},
   "outputs": [],
   "source": [
    "fitted_grid_rf.best_params_"
   ]
  },
  {
   "cell_type": "code",
   "execution_count": null,
   "id": "822beaf7",
   "metadata": {},
   "outputs": [],
   "source": [
    "fitted_grid_rf.score(X_test, y_test)"
   ]
  },
  {
   "cell_type": "markdown",
   "id": "12775065",
   "metadata": {},
   "source": [
    "### Extreme Gradient Boosting"
   ]
  },
  {
   "cell_type": "markdown",
   "id": "d5721f98",
   "metadata": {},
   "source": [
    "XGBoost is an iterative ensemble method which uses gradient descent to optimize model performance. Here, we will be optimizing principal components, the max depth of each decision tree in the ensemble, the learning rate of the algorithm, and the number of estimators.\n",
    "\n",
    "This algorithm requires that we encode our target variable, which we do below."
   ]
  },
  {
   "cell_type": "code",
   "execution_count": null,
   "id": "405f256a",
   "metadata": {},
   "outputs": [],
   "source": [
    "# Create a label encoder\n",
    "label_encoder = LabelEncoder()\n",
    "\n",
    "# Fit the encoder on the original class labels and transform them\n",
    "y_train2_encoded = label_encoder.fit_transform(y_train2)\n",
    "y_test2_encoded = label_encoder.transform(y_test2)\n",
    "y_val2_encoded = label_encoder.transform(y_val2)\n",
    "\n",
    "y_train_encoded = label_encoder.fit_transform(y_train)\n",
    "y_test_encoded = label_encoder.transform(y_test)\n",
    "y_val_encoded = label_encoder.transform(y_val)"
   ]
  },
  {
   "cell_type": "code",
   "execution_count": 78,
   "id": "b5c4423b",
   "metadata": {},
   "outputs": [
    {
     "name": "stderr",
     "output_type": "stream",
     "text": [
      "Exception ignored in: <function tqdm.__del__ at 0x7fb9bcf089d0>\n",
      "Traceback (most recent call last):\n",
      "  File \"/home/aiadmin/.local/lib/python3.10/site-packages/tqdm/std.py\", line 1149, in __del__\n",
      "    self.close()\n",
      "  File \"/home/aiadmin/.local/lib/python3.10/site-packages/tqdm/notebook.py\", line 278, in close\n",
      "    self.disp(bar_style='danger', check_delay=False)\n",
      "  File \"/home/aiadmin/.local/lib/python3.10/site-packages/tqdm/notebook.py\", line 150, in display\n",
      "    d = self.format_dict\n",
      "  File \"/home/aiadmin/.local/lib/python3.10/site-packages/tqdm/std.py\", line 1463, in format_dict\n",
      "    'colour': self.colour}\n",
      "  File \"/home/aiadmin/.local/lib/python3.10/site-packages/tqdm/notebook.py\", line 194, in colour\n",
      "    return self.container.children[-2].style.bar_color\n",
      "AttributeError: 'FloatProgress' object has no attribute 'style'\n"
     ]
    }
   ],
   "source": [
    "# Create the pipeline\n",
    "estimators = [\n",
    "    ('scaler', StandardScaler()),\n",
    "    ('pca', PCA()),\n",
    "    ('xgb', XGBClassifier())\n",
    "]\n",
    "pipe = Pipeline(estimators)\n",
    "\n",
    "# Define the hyperparameters and their candidate values for GridSearchCV\n",
    "params = {\n",
    "    # Number of PCA components:\n",
    "    'pca__n_components': np.arange(1, 18),\n",
    "    # Max Depth of the trees\n",
    "    'xgb__max_depth': [1, 2, 3, 4, 5, 6, 7, 8],\n",
    "    # The learning rate of the algorithm\n",
    "    'xgb__learning_rate': [0.001, 0.1, 1, 10],\n",
    "    # Number of Estimators\n",
    "    'xgb__n_estimators': [10,50,100,200]\n",
    "}\n",
    "\n",
    "# Create the GridSearchCV object\n",
    "grid_search = GridSearchCV(pipe, param_grid=params)\n",
    "\n",
    "# Fit the GridSearchCV object to the data\n",
    "fitted_grid_xgb = grid_search.fit(X_train2, y_train2_encoded)"
   ]
  },
  {
   "cell_type": "code",
   "execution_count": 79,
   "id": "42e7e681",
   "metadata": {},
   "outputs": [
    {
     "data": {
      "text/plain": [
       "0.7128364389233954"
      ]
     },
     "execution_count": 79,
     "metadata": {},
     "output_type": "execute_result"
    }
   ],
   "source": [
    "fitted_grid_xgb.score(X_val2, y_val2_encoded)"
   ]
  },
  {
   "cell_type": "code",
   "execution_count": 80,
   "id": "d0fecdfb",
   "metadata": {},
   "outputs": [
    {
     "data": {
      "text/plain": [
       "{'pca__n_components': 17,\n",
       " 'xgb__learning_rate': 0.1,\n",
       " 'xgb__max_depth': 4,\n",
       " 'xgb__n_estimators': 50}"
      ]
     },
     "execution_count": 80,
     "metadata": {},
     "output_type": "execute_result"
    }
   ],
   "source": [
    "fitted_grid_xgb.best_params_"
   ]
  },
  {
   "cell_type": "code",
   "execution_count": 81,
   "id": "a0142429",
   "metadata": {},
   "outputs": [
    {
     "data": {
      "text/plain": [
       "0.7021739130434783"
      ]
     },
     "execution_count": 81,
     "metadata": {},
     "output_type": "execute_result"
    }
   ],
   "source": [
    "fitted_grid_xgb.score(X_test2, y_test2_encoded)"
   ]
  },
  {
   "cell_type": "markdown",
   "id": "143fb07b",
   "metadata": {},
   "source": [
    "The XGBoost algorithm yielded the poorest results of all of our models, with an accuracy of 61.7% on our test set. This used 17 principal components, a learning rate of 10, a max depth of 8 for all trees and 200 estimators."
   ]
  },
  {
   "cell_type": "code",
   "execution_count": null,
   "id": "089fd3fb",
   "metadata": {},
   "outputs": [],
   "source": []
  },
  {
   "cell_type": "code",
   "execution_count": null,
   "id": "f0e02fea",
   "metadata": {},
   "outputs": [],
   "source": [
    "#XGB with full dataset\n",
    "# Create the pipeline\n",
    "estimators = [\n",
    "    ('scaler', StandardScaler()),\n",
    "    ('pca', PCA()),\n",
    "    ('xgb', XGBClassifier())\n",
    "]\n",
    "pipe = Pipeline(estimators)\n",
    "\n",
    "# Define the hyperparameters and their candidate values for GridSearchCV\n",
    "params = {\n",
    "    # Number of PCA components:\n",
    "    'pca__n_components': np.arange(1, 18),\n",
    "    # Max Depth of the trees\n",
    "    'xgb__max_depth': [1, 2, 3, 4, 5, 6, 7, 8],\n",
    "    # The learning rate of the algorithm\n",
    "    'xgb__learning_rate': [0.001, 0.1, 1, 10],\n",
    "    # Number of Estimators\n",
    "    'xgb__n_estimators': [10,50,100,200]\n",
    "}\n",
    "\n",
    "# Create the GridSearchCV object\n",
    "grid_search = GridSearchCV(pipe, param_grid=params)\n",
    "\n",
    "# Fit the GridSearchCV object to the data\n",
    "fitted_grid_xgb = grid_search.fit(X_train, y_train_encoded)"
   ]
  },
  {
   "cell_type": "code",
   "execution_count": null,
   "id": "d12d18c4",
   "metadata": {},
   "outputs": [],
   "source": [
    "fitted_grid_xgb.score(X_val, y_val_encoded)"
   ]
  },
  {
   "cell_type": "code",
   "execution_count": null,
   "id": "df2a43a6",
   "metadata": {},
   "outputs": [],
   "source": [
    "fitted_grid_xgb.best_params_"
   ]
  },
  {
   "cell_type": "code",
   "execution_count": null,
   "id": "7f955863",
   "metadata": {},
   "outputs": [],
   "source": [
    "fitted_grid_xgb.score(X_test, y_test_encoded)"
   ]
  },
  {
   "cell_type": "markdown",
   "id": "6df9034f",
   "metadata": {},
   "source": [
    "Our last model to be tested with be a simple feed forward multi-layer perceptron neural network. However, since this requires the use of tensorflow, this is contained in the next notebook. "
   ]
  },
  {
   "cell_type": "markdown",
   "id": "ea73c808",
   "metadata": {},
   "source": [
    "Below is our final summary of model results. Our highest performing model was our non-optimized neural network, and our worst was XGBoost, with most models scoring around 70% accuracy on our test set. It must be remembered that some of these models were trained on sample data sets as opposed to the entire data set due to computational limitations, which may have influenced their results. This must be remembered when interpreting our results."
   ]
  },
  {
   "cell_type": "code",
   "execution_count": 1,
   "id": "2e4bdd15",
   "metadata": {},
   "outputs": [],
   "source": [
    "models = ['Logistic Regression', 'Decision Tree', 'K-Nearest Neighbors', 'Support Vector Machine', 'Random Forest', 'Extreme Gradient Boosting', 'Neural Network']\n",
    "model_scores = [67.5, 70.4, 68.7, 69.7, 69.7, 70.2, 71]"
   ]
  },
  {
   "cell_type": "code",
   "execution_count": 4,
   "id": "281f47ec",
   "metadata": {
    "scrolled": false
   },
   "outputs": [
    {
     "data": {
      "image/png": "[encoded data removed]",
      "text/plain": [
       "<Figure size 720x432 with 1 Axes>"
      ]
     },
     "metadata": {
      "needs_background": "light"
     },
     "output_type": "display_data"
    }
   ],
   "source": [
    "plt.figure(figsize=(10,6))\n",
    "plt.bar(models, model_scores)\n",
    "plt.xticks(rotation=45, fontsize=10, va='top', ha='right')\n",
    "plt.xlabel('Models', fontsize=14)\n",
    "plt.ylabel('Accuracy Scores', fontsize=14)\n",
    "plt.title('Accuracy Scores of All Models Built', fontsize=16)\n",
    "for i, score in enumerate(model_scores):\n",
    "    plt.text(i, score, str(score), ha='center', va='bottom', fontsize=12)\n",
    "plt.tight_layout()\n",
    "plt.show()"
   ]
  },
  {
   "cell_type": "markdown",
   "id": "3a362b96",
   "metadata": {},
   "source": [
    "# Notebook Conclusion\n",
    "In this notebook, we employed traditional Machine Learning models in order to predict our target variable. Among the traditional ML models that we employed, the highest score obtained was using a __decision__ tree algorithm. This model had a max depth of 8, a minimum samples per leaf of 1, and 16 principal components. "
   ]
  }
 ],
 "metadata": {
  "kernelspec": {
   "display_name": "Python 3 (ipykernel)",
   "language": "python",
   "name": "python3"
  },
  "language_info": {
   "codemirror_mode": {
    "name": "ipython",
    "version": 3
   },
   "file_extension": ".py",
   "mimetype": "text/x-python",
   "name": "python",
   "nbconvert_exporter": "python",
   "pygments_lexer": "ipython3",
   "version": "3.10.12"
  }
 },
 "nbformat": 4,
 "nbformat_minor": 5
}
